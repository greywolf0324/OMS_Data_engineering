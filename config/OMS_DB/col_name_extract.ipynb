{
 "cells": [
  {
   "cell_type": "code",
   "execution_count": 10,
   "metadata": {},
   "outputs": [],
   "source": [
    "import pandas as pd\n",
    "\n",
    "df_ad_uom = pd.read_csv(\"OMS_AdditionalUOM.csv\")\n",
    "df_customers = pd.read_csv(\"OMS_Customers.csv\")\n",
    "df_InventoryList = pd.read_csv(\"OMS_InventoryList.csv\")\n",
    "df_PaymentTerm = pd.read_csv(\"OMS_PaymentTerm.csv\")\n",
    "df_oms_uom = pd.read_csv(\"OMS_UOM.csv\")\n",
    "\n",
    "lis_1 = list(df_ad_uom.columns)\n",
    "lis_2 = list(df_customers)\n",
    "lis_3 = list(df_InventoryList)\n",
    "lis_4 = list(df_PaymentTerm)\n",
    "lis_5 = list(df_oms_uom)\n",
    "\n",
    "with open(\"df_ad_uom.txt\", \"w\") as f:\n",
    "  for lis in lis_1:\n",
    "    f.write(lis)\n",
    "    f.write(\"\\n\")\n",
    "with open(\"df_customers.txt\", \"w\") as f:\n",
    "  for lis in lis_2:\n",
    "    f.write(lis)\n",
    "    f.write(\"\\n\")\n",
    "with open(\"df_InventoryList.txt\", \"w\") as f:\n",
    "  for lis in lis_3:\n",
    "    f.write(lis)\n",
    "    f.write(\"\\n\")\n",
    "with open(\"df_PaymentTerm.txt\", \"w\") as f:\n",
    "  for lis in lis_4:\n",
    "    f.write(lis)\n",
    "    f.write(\"\\n\")\n",
    "with open(\"df_oms_uom.txt\", \"w\") as f:\n",
    "  for lis in lis_5:\n",
    "    f.write(lis)\n",
    "    f.write(\"\\n\")\n",
    "  "
   ]
  },
  {
   "cell_type": "code",
   "execution_count": null,
   "metadata": {},
   "outputs": [],
   "source": []
  }
 ],
 "metadata": {
  "kernelspec": {
   "display_name": "Python 3",
   "language": "python",
   "name": "python3"
  },
  "language_info": {
   "codemirror_mode": {
    "name": "ipython",
    "version": 3
   },
   "file_extension": ".py",
   "mimetype": "text/x-python",
   "name": "python",
   "nbconvert_exporter": "python",
   "pygments_lexer": "ipython3",
   "version": "3.10.11"
  },
  "orig_nbformat": 4
 },
 "nbformat": 4,
 "nbformat_minor": 2
}
