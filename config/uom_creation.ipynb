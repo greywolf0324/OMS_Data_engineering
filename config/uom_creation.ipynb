{
 "cells": [
  {
   "cell_type": "code",
   "execution_count": 1,
   "metadata": {},
   "outputs": [
    {
     "name": "stdout",
     "output_type": "stream",
     "text": [
      "                 BaseSKU      AdditionalUnitsOfMeasureSKU  \\\n",
      "0                  10303                10303-Case Pack 6   \n",
      "1                    226                  226-Case Pack 6   \n",
      "2                   2331                 2331-Case Pack 4   \n",
      "3                   2335                 2335-Case Pack 6   \n",
      "4                   2338                 2338-Case Pack 6   \n",
      "..                   ...                              ...   \n",
      "114                 9346                9346-Case Pack 24   \n",
      "115  CIU-HCASTINGK-60924  CIU-HCASTINGK-60924-Case Pack 6   \n",
      "116      CK-ADCLAY-78722     CK-ADCLAY-78722-Case Pack 12   \n",
      "117   KDTOOL-42ABC-76699  KDTOOL-42ABC-76699-Case Pack 24   \n",
      "118   PD-DVP80PACK-09117   PD-DVP80PACK-09117-Case Pack 4   \n",
      "\n",
      "     NumberOfBaseUnitsInAdditionalUnit  \n",
      "0                                    6  \n",
      "1                                    6  \n",
      "2                                    4  \n",
      "3                                    6  \n",
      "4                                    6  \n",
      "..                                 ...  \n",
      "114                                 24  \n",
      "115                                  6  \n",
      "116                                 12  \n",
      "117                                 24  \n",
      "118                                  4  \n",
      "\n",
      "[119 rows x 3 columns]\n"
     ]
    }
   ],
   "source": [
    "import pandas as pd\n",
    "\n",
    "UOM = pd.read_csv(\"UOM.csv\")\n",
    "uom = UOM[[\"BaseSKU\", \"AdditionalUnitsOfMeasureSKU\", \"NumberOfBaseUnitsInAdditionalUnit\"]]\n",
    "\n",
    "print(uom)"
   ]
  },
  {
   "cell_type": "code",
   "execution_count": 5,
   "metadata": {},
   "outputs": [],
   "source": [
    "keys = list(uom[\"BaseSKU\"])\n",
    "\n",
    "dic = {}\n",
    "\n",
    "for i, key in enumerate(keys):\n",
    "  dic.update({key: [uom[\"AdditionalUnitsOfMeasureSKU\"][i], uom[\"NumberOfBaseUnitsInAdditionalUnit\"][i]]})\n",
    "\n",
    "df = pd.DataFrame(dic)\n",
    "df.to_csv(\"uom_sku.csv\")"
   ]
  }
 ],
 "metadata": {
  "kernelspec": {
   "display_name": "Python 3",
   "language": "python",
   "name": "python3"
  },
  "language_info": {
   "codemirror_mode": {
    "name": "ipython",
    "version": 3
   },
   "file_extension": ".py",
   "mimetype": "text/x-python",
   "name": "python",
   "nbconvert_exporter": "python",
   "pygments_lexer": "ipython3",
   "version": "3.10.11"
  },
  "orig_nbformat": 4
 },
 "nbformat": 4,
 "nbformat_minor": 2
}
