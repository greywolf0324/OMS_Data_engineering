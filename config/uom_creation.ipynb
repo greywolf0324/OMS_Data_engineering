{
 "cells": [
  {
   "cell_type": "code",
   "execution_count": 1,
   "metadata": {},
   "outputs": [
    {
     "name": "stdout",
     "output_type": "stream",
     "text": [
      "                 BaseSKU      AdditionalUnitsOfMeasureSKU  \\\n",
      "0                  10303                10303-Case Pack 6   \n",
      "1                    226                  226-Case Pack 6   \n",
      "2                   2331                 2331-Case Pack 4   \n",
      "3                   2335                 2335-Case Pack 6   \n",
      "4                   2338                 2338-Case Pack 6   \n",
      "..                   ...                              ...   \n",
      "114                 9346                9346-Case Pack 24   \n",
      "115  CIU-HCASTINGK-60924  CIU-HCASTINGK-60924-Case Pack 6   \n",
      "116      CK-ADCLAY-78722     CK-ADCLAY-78722-Case Pack 12   \n",
      "117   KDTOOL-42ABC-76699  KDTOOL-42ABC-76699-Case Pack 24   \n",
      "118   PD-DVP80PACK-09117   PD-DVP80PACK-09117-Case Pack 4   \n",
      "\n",
      "     NumberOfBaseUnitsInAdditionalUnit  \n",
      "0                                    6  \n",
      "1                                    6  \n",
      "2                                    4  \n",
      "3                                    6  \n",
      "4                                    6  \n",
      "..                                 ...  \n",
      "114                                 24  \n",
      "115                                  6  \n",
      "116                                 12  \n",
      "117                                 24  \n",
      "118                                  4  \n",
      "\n",
      "[119 rows x 3 columns]\n"
     ]
    }
   ],
   "source": [
    "import pandas as pd\n",
    "\n",
    "UOM = pd.read_csv(\"UOM.csv\")\n",
    "uom = UOM[[\"BaseSKU\", \"AdditionalUnitsOfMeasureSKU\", \"NumberOfBaseUnitsInAdditionalUnit\"]]\n",
    "\n",
    "print(uom)"
   ]
  },
  {
   "cell_type": "code",
   "execution_count": 5,
   "metadata": {},
   "outputs": [],
   "source": [
    "keys = list(uom[\"BaseSKU\"])\n",
    "\n",
    "dic = {}\n",
    "\n",
    "for i, key in enumerate(keys):\n",
    "  dic.update({key: [uom[\"AdditionalUnitsOfMeasureSKU\"][i], uom[\"NumberOfBaseUnitsInAdditionalUnit\"][i]]})\n",
    "\n",
    "df = pd.DataFrame(dic)\n",
    "df.to_csv(\"uom_sku.csv\")"
   ]
  },
  {
   "cell_type": "code",
   "execution_count": 2,
   "metadata": {},
   "outputs": [
    {
     "data": {
      "text/plain": [
       "0                   Case Pack 10\n",
       "1               Case Pack 10 PDQ\n",
       "2                   Case Pack 12\n",
       "3               Case Pack 12 PDQ\n",
       "4     Case Pack 12, Inner 4 PDQ \n",
       "5          Case Pack 12, Inner 6\n",
       "6      Case Pack 12, Inner 6 PDQ\n",
       "7        Case Pack 144, Inner 24\n",
       "8               Case Pack 18 PDQ\n",
       "9                    Case Pack 2\n",
       "10                  Case Pack 20\n",
       "11                  Case Pack 24\n",
       "12        Case Pack 24, Inner 12\n",
       "13    Case Pack 24, Inner 12 PDQ\n",
       "14         Case Pack 24, Inner 6\n",
       "15     Case Pack 24, Inner 6 PDQ\n",
       "16         Case Pack 24, Inner 8\n",
       "17     Case Pack 24, Inner 8 PDQ\n",
       "18                   Case Pack 3\n",
       "19                  Case Pack 32\n",
       "20    Case Pack 32, Inner 8 PDQ \n",
       "21                  Case Pack 36\n",
       "22              Case Pack 36 PDQ\n",
       "23         Case Pack 36, Inner 6\n",
       "24    Case Pack 36, Inner 6 PDQ \n",
       "25         Case Pack 36, Inner 9\n",
       "26                   Case Pack 4\n",
       "27                  Case Pack 48\n",
       "28        Case Pack 48, Inner 12\n",
       "29         Case Pack 48, Inner 6\n",
       "30                   Case Pack 6\n",
       "31               Case Pack 6 PDQ\n",
       "32          Case Pack 6, Inner 2\n",
       "33                   Case Pack 8\n",
       "34               Case Pack 8 PDQ\n",
       "35                   Case Pack 9\n",
       "36        Case Pack 96, Inner 12\n",
       "37                          Item\n",
       "38                          Unit\n",
       "Name: Name, dtype: object"
      ]
     },
     "execution_count": 2,
     "metadata": {},
     "output_type": "execute_result"
    }
   ],
   "source": [
    "import pandas as pd\n",
    "\n",
    "df = pd.read_csv(\"uom.csv\")\n",
    "\n",
    "df[\"Name\"]"
   ]
  }
 ],
 "metadata": {
  "kernelspec": {
   "display_name": "Python 3",
   "language": "python",
   "name": "python3"
  },
  "language_info": {
   "codemirror_mode": {
    "name": "ipython",
    "version": 3
   },
   "file_extension": ".py",
   "mimetype": "text/x-python",
   "name": "python",
   "nbconvert_exporter": "python",
   "pygments_lexer": "ipython3",
   "version": "3.10.11"
  },
  "orig_nbformat": 4
 },
 "nbformat": 4,
 "nbformat_minor": 2
}
