{
 "cells": [
  {
   "cell_type": "code",
   "execution_count": 2,
   "metadata": {},
   "outputs": [],
   "source": [
    "import pandas as pd\n",
    "import json\n",
    "from OCR.parse import PDF_parsing"
   ]
  },
  {
   "cell_type": "code",
   "execution_count": 5,
   "metadata": {},
   "outputs": [
    {
     "ename": "TypeError",
     "evalue": "PDF_parsing.PO_parser() missing 1 required positional argument: 'self'",
     "output_type": "error",
     "traceback": [
      "\u001b[1;31m---------------------------------------------------------------------------\u001b[0m",
      "\u001b[1;31mTypeError\u001b[0m                                 Traceback (most recent call last)",
      "Cell \u001b[1;32mIn[5], line 1\u001b[0m\n\u001b[1;32m----> 1\u001b[0m res \u001b[39m=\u001b[39m PDF_parsing\u001b[39m.\u001b[39;49mPO_parser(paths\u001b[39m=\u001b[39;49m[\u001b[39m\"\u001b[39;49m\u001b[39mExam/input/PDF/multi.pdf\u001b[39;49m\u001b[39m\"\u001b[39;49m])\n\u001b[0;32m      3\u001b[0m res\n",
      "\u001b[1;31mTypeError\u001b[0m: PDF_parsing.PO_parser() missing 1 required positional argument: 'self'"
     ]
    }
   ],
   "source": [
    "res = PDF_parsing.PO_parser(paths=[\"Exam/input/PDF/multi.pdf\"])\n",
    "\n",
    "res"
   ]
  },
  {
   "cell_type": "code",
   "execution_count": null,
   "metadata": {},
   "outputs": [],
   "source": [
    "\n",
    "df = pd.read_excel(\"Buc-ee's Sales Import-Sid.xlsx\")\n",
    "\n",
    "fields = df.columns\n",
    "fields = fields.tolist()\n",
    "\n",
    "with open('field_names.json', 'w') as f:\n",
    "    json.dump(fields, f, indent=4)\n",
    "    \n",
    "f = open(\"field_names.json\")\n",
    "\n",
    "data = json.load(f)\n",
    "\n",
    "print(data)\n",
    "print(type(data[0]))"
   ]
  },
  {
   "cell_type": "code",
   "execution_count": 7,
   "metadata": {},
   "outputs": [],
   "source": [
    "f = open(\"field_names.json\")\n",
    "field_names = json.load(f)\n",
    "variables = {}\n",
    "\n",
    "for field in field_names:\n",
    "    variables[field] = 0\n",
    "    \n",
    "variables['Dept #'] = "
   ]
  }
 ],
 "metadata": {
  "kernelspec": {
   "display_name": "venv",
   "language": "python",
   "name": "python3"
  },
  "language_info": {
   "codemirror_mode": {
    "name": "ipython",
    "version": 3
   },
   "file_extension": ".py",
   "mimetype": "text/x-python",
   "name": "python",
   "nbconvert_exporter": "python",
   "pygments_lexer": "ipython3",
   "version": "3.10.11"
  },
  "orig_nbformat": 4
 },
 "nbformat": 4,
 "nbformat_minor": 2
}
